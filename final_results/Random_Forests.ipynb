{
 "cells": [
  {
   "cell_type": "markdown",
   "metadata": {
    "collapsed": true,
    "pycharm": {
     "name": "#%% md\n"
    }
   },
   "source": [
    "\n",
    "### Classification baseline for CNNs with RandomForests - Summary\n",
    "Results of baseline random forest classifiers with automatic features extraction from tsfresh.\n",
    "\n",
    "This notebook is just a summary of the results, for feature extraction and random forest optimization check: randomForest_baseline.py.\n"
   ]
  },
  {
   "cell_type": "code",
   "execution_count": 1,
   "metadata": {
    "pycharm": {
     "is_executing": false,
     "name": "#%% \n"
    }
   },
   "outputs": [],
   "source": [
    "import pandas as pd\n",
    "from tsfresh import extract_features, select_features\n",
    "from tsfresh.utilities.dataframe_functions import impute\n",
    "from sklearn.model_selection import train_test_split\n",
    "from sklearn.ensemble import RandomForestClassifier\n",
    "from sklearn.tree import DecisionTreeClassifier\n",
    "import sklearn.metrics as metrics\n",
    "import treeinterpreter.treeinterpreter as ti\n",
    "from sklearn.model_selection import GridSearchCV\n",
    "import zipfile\n",
    "# Read module from another directory\n",
    "import sys\n",
    "sys.path.append('../')\n",
    "from load_data import DataProcesser\n"
   ]
  },
  {
   "cell_type": "code",
   "execution_count": 2,
   "metadata": {
    "pycharm": {
     "is_executing": false,
     "name": "#%%\n"
    }
   },
   "outputs": [],
   "source": [
    "# Get target vector for sklearn\n",
    "data_file = '../data/ErkAkt_6GF_len240.zip'\n",
    "meas_var = 'AKT'  # doesn't matter which variable is chosen\n",
    "data = DataProcesser(data_file)\n",
    "data.subset(sel_groups=meas_var, start_time=0, end_time=600)\n",
    "classes = tuple(data.classes.iloc[:,1])\n",
    "data = data.dataset\n",
    "\n",
    "data = pd.melt(data, id_vars=['ID', 'class'], var_name='Time', value_name='Ratio_' + meas_var)\n",
    "data['Time'] = data['Time'].str.replace('^{}_'.format(meas_var), '').astype('int')\n",
    "data = data.sort_values(['ID', 'Time'])\n",
    "\n",
    "dt_class = data.loc[:, ['ID', 'class']].copy()\n",
    "dt_class = dt_class.drop_duplicates()\n",
    "dt_class.index = dt_class['ID']\n",
    "dt_class = dt_class.drop('ID', axis=1)\n",
    "\n",
    "y_target =  dt_class['class']\n",
    "\n",
    "del data  # Free memory\n"
   ]
  },
  {
   "cell_type": "markdown",
   "metadata": {
    "pycharm": {
     "name": "#%% md\n"
    }
   },
   "source": [
    "### Load features\n",
    "\n",
    "For the bivariate case, the features are extracted indepently on ERK and AKT channels and concatenated.\n"
   ]
  },
  {
   "cell_type": "code",
   "execution_count": 3,
   "metadata": {
    "pycharm": {
     "is_executing": false,
     "name": "#%%\n"
    }
   },
   "outputs": [],
   "source": [
    "# Load features and split for forest fitting\n",
    "def load_features_split(meas_vars, y_target):\n",
    "    if isinstance(meas_vars, str):\n",
    "        features_archive = zipfile.ZipFile('../data/randForest_Features/randForest_Features_{}.zip'.format(meas_vars), 'r')\n",
    "        features_filtered = pd.read_csv(features_archive.open('randForest_fltrFeatures.csv'),\n",
    "                                    index_col='id')\n",
    "    if isinstance(meas_vars, tuple):\n",
    "        features_filtered = []\n",
    "        for meas_var in meas_vars:\n",
    "            features_archive = zipfile.ZipFile('../data/randForest_Features/randForest_Features_{}.zip'.format(meas_var), 'r')\n",
    "            features_filtered.append(pd.read_csv(features_archive.open('randForest_fltrFeatures.csv'),\n",
    "                                        index_col='id'))\n",
    "        features_filtered = pd.merge(features_filtered[0], features_filtered[1], left_index=True, right_index=True)\n",
    "        \n",
    "    X_train, X_test, y_train, y_test = train_test_split(features_filtered, y_target, test_size=0.3, random_state=42)\n",
    "    return X_train, X_test, y_train, y_test\n",
    "\n",
    "\n",
    "features_dict = {meas:load_features_split(meas, y_target) for meas in ['ERK', 'AKT', ('ERK', 'AKT')]}\n"
   ]
  },
  {
   "cell_type": "markdown",
   "metadata": {
    "pycharm": {
     "name": "#%% md\n"
    }
   },
   "source": [
    "### Fit Models\n",
    "\n",
    "Use decision tree and base random forest from sklearn with default parameters, except number of trees set to 100.\n"
   ]
  },
  {
   "cell_type": "code",
   "execution_count": 4,
   "metadata": {
    "pycharm": {
     "is_executing": false,
     "name": "#%%\n"
    }
   },
   "outputs": [],
   "source": [
    "def confmat_acc_tree(xtrain, xtest, ytrain, ytest):\n",
    "    model = DecisionTreeClassifier()\n",
    "    model.fit(xtrain, ytrain)\n",
    "    y_predict = model.predict(xtest)\n",
    "    # Truth on rows; Predicted on columns\n",
    "    confmat = metrics.confusion_matrix(ytest.values, y_predict, labels=[0,1,2,3,4,5,6])\n",
    "    acc = metrics.accuracy_score(ytest.values, y_predict)\n",
    "    return acc, confmat\n",
    "\n",
    "def confmat_acc_frst(xtrain, xtest, ytrain, ytest):\n",
    "    model = RandomForestClassifier(n_estimators=100)\n",
    "    model.fit(xtrain, ytrain)\n",
    "    y_predict = model.predict(xtest)\n",
    "    # Truth on rows; Predicted on columns\n",
    "    confmat = metrics.confusion_matrix(ytest.values, y_predict, labels=[0,1,2,3,4,5,6])\n",
    "    acc = metrics.accuracy_score(ytest.values, y_predict)\n",
    "    return acc, confmat\n",
    "\n",
    "accuracies_trees   = {meas:confmat_acc_tree(*features_dict[meas]) for meas in ['ERK', 'AKT', ('ERK', 'AKT')]}\n",
    "accuracies_forests = {meas:confmat_acc_frst(*features_dict[meas]) for meas in ['ERK', 'AKT', ('ERK', 'AKT')]}\n"
   ]
  },
  {
   "cell_type": "markdown",
   "metadata": {
    "pycharm": {
     "name": "#%% md\n"
    }
   },
   "source": [
    "### Report accuracies\n"
   ]
  },
  {
   "cell_type": "code",
   "execution_count": 5,
   "metadata": {
    "pycharm": {
     "is_executing": false,
     "name": "#%% \n"
    }
   },
   "outputs": [],
   "source": [
    "def print_results(meas_var):\n",
    "    def format_confmat(mat, class_names):\n",
    "        out = pd.DataFrame(mat)\n",
    "        out.index = class_names\n",
    "        out.columns = class_names\n",
    "        return  out\n",
    "    print('Accuracy of the decision tree for {} is: {}'.format(meas_var, accuracies_trees[meas_var][0]))\n",
    "    print('Accuracy of the random forest for {} is: {}'.format(meas_var, accuracies_forests[meas_var][0]))\n",
    "    \n",
    "    print('\\n Confusion matrix: decision tree')\n",
    "    print(format_confmat(accuracies_trees[meas_var][1], classes))\n",
    "    \n",
    "    print('\\n Confusion matrix: random forest')\n",
    "    print(format_confmat(accuracies_forests[meas_var][1], classes))\n"
   ]
  },
  {
   "cell_type": "markdown",
   "metadata": {
    "pycharm": {
     "name": "#%% md\n"
    }
   },
   "source": [
    "* ERK"
   ]
  },
  {
   "cell_type": "code",
   "execution_count": 6,
   "metadata": {
    "pycharm": {
     "is_executing": false,
     "name": "#%%\n"
    }
   },
   "outputs": [
    {
     "name": "stdout",
     "output_type": "stream",
     "text": [
      "Accuracy of the decision tree for ERK is: 0.37604881769641496\n",
      "Accuracy of the random forest for ERK is: 0.5087719298245614\n",
      "\n",
      " Confusion matrix: decision tree\n",
      "              Ctrl  EGF  HGF  IGF1  Epiregulin  HeregulinB1  Betacellulin\n",
      "Ctrl            94    8   98   119          11           60            13\n",
      "EGF              5  128   18     5          65           21            94\n",
      "HGF             75   10  139    87          10           48            19\n",
      "IGF1           101    4   94   168           5           60            12\n",
      "Epiregulin      11   48   11     6         163           14            41\n",
      "HeregulinB1     52   19   59    74          11          153            33\n",
      "Betacellulin    11   96   21    17          44           26           141\n",
      "\n",
      " Confusion matrix: random forest\n",
      "              Ctrl  EGF  HGF  IGF1  Epiregulin  HeregulinB1  Betacellulin\n",
      "Ctrl           107    3   30   166           6           79            12\n",
      "EGF              6  178    5     5          58            7            77\n",
      "HGF             90    7  111   106           7           55            12\n",
      "IGF1            61    2   41   272           5           60             3\n",
      "Epiregulin      12   28    2     1         228            4            19\n",
      "HeregulinB1     32   11   25    41           9          258            25\n",
      "Betacellulin     6   82    5     3          40           40           180\n"
     ]
    }
   ],
   "source": [
    "print_results('ERK')"
   ]
  },
  {
   "cell_type": "markdown",
   "metadata": {},
   "source": [
    "* AKT"
   ]
  },
  {
   "cell_type": "code",
   "execution_count": 7,
   "metadata": {
    "pycharm": {
     "is_executing": false,
     "name": "#%%\n"
    }
   },
   "outputs": [
    {
     "name": "stdout",
     "output_type": "stream",
     "text": [
      "Accuracy of the decision tree for AKT is: 0.43897787948131195\n",
      "Accuracy of the random forest for AKT is: 0.5728451563691839\n",
      "\n",
      " Confusion matrix: decision tree\n",
      "              Ctrl  EGF  HGF  IGF1  Epiregulin  HeregulinB1  Betacellulin\n",
      "Ctrl           162   11  134    28          22           27            19\n",
      "EGF             10  118   40     8          54           10            96\n",
      "HGF             92   29  149    29          26           35            28\n",
      "IGF1            27    6   31   294          12           68             6\n",
      "Epiregulin      20   72   35     6          88           20            53\n",
      "HeregulinB1     25   18   30    56          18          235            19\n",
      "Betacellulin    25  105   35     6          57           23           105\n",
      "\n",
      " Confusion matrix: random forest\n",
      "              Ctrl  EGF  HGF  IGF1  Epiregulin  HeregulinB1  Betacellulin\n",
      "Ctrl           254    4   74    27          16           18            10\n",
      "EGF             11  157   15     9          56           14            74\n",
      "HGF            127    7  167    18          18           36            15\n",
      "IGF1            24    0   10   374           5           29             2\n",
      "Epiregulin      25   57   22     3         120           27            40\n",
      "HeregulinB1     21    4   17    62           8          286             3\n",
      "Betacellulin    25  105   27     4          30           21           144\n"
     ]
    }
   ],
   "source": [
    "print_results('AKT')"
   ]
  },
  {
   "cell_type": "markdown",
   "metadata": {},
   "source": [
    "* ERK-AKT"
   ]
  },
  {
   "cell_type": "code",
   "execution_count": 8,
   "metadata": {
    "pycharm": {
     "is_executing": false,
     "name": "#%%\n"
    }
   },
   "outputs": [
    {
     "name": "stdout",
     "output_type": "stream",
     "text": [
      "Accuracy of the decision tree for ('ERK', 'AKT') is: 0.5225019069412662\n",
      "Accuracy of the random forest for ('ERK', 'AKT') is: 0.6708619374523265\n",
      "\n",
      " Confusion matrix: decision tree\n",
      "              Ctrl  EGF  HGF  IGF1  Epiregulin  HeregulinB1  Betacellulin\n",
      "Ctrl           174   10  113    38          11           40            17\n",
      "EGF             14  148   15     2          50           12            95\n",
      "HGF            112   14  165    34          11           35            17\n",
      "IGF1            27    2   35   328           4           46             2\n",
      "Epiregulin      15   61   12     5         156            1            44\n",
      "HeregulinB1     32    7   41    60           7          243            11\n",
      "Betacellulin    19  104   25     6          33           13           156\n",
      "\n",
      " Confusion matrix: random forest\n",
      "              Ctrl  EGF  HGF  IGF1  Epiregulin  HeregulinB1  Betacellulin\n",
      "Ctrl           258    4   71    35           5           18            12\n",
      "EGF              7  190   11     1          51            1            75\n",
      "HGF            138    1  174    29           8           22            16\n",
      "IGF1            18    0    9   390           0           27             0\n",
      "Epiregulin      10   32    3     2         225            2            20\n",
      "HeregulinB1     20    0   13    55           4          305             4\n",
      "Betacellulin    12   81    8     0          34            4           217\n"
     ]
    }
   ],
   "source": [
    "print_results(('ERK', 'AKT'))"
   ]
  },
  {
   "cell_type": "markdown",
   "metadata": {},
   "source": [
    "## Redo the analysis but with the new replicate and trim 100 first frames (early response)"
   ]
  },
  {
   "cell_type": "code",
   "execution_count": 9,
   "metadata": {},
   "outputs": [],
   "source": [
    "# Get target vector for sklearn\n",
    "data_file = '../data/ErkAkt_6GF_len240_repl2_trim100.zip'\n",
    "meas_var = 'AKT'  # doesn't matter which variable is chosen\n",
    "data = DataProcesser(data_file)\n",
    "data.subset(sel_groups=meas_var, start_time=100, end_time=600)\n",
    "classes = tuple(data.classes.iloc[:,1])\n",
    "data = data.dataset\n",
    "\n",
    "data = pd.melt(data, id_vars=['ID', 'class'], var_name='Time', value_name='Ratio_' + meas_var)\n",
    "data['Time'] = data['Time'].str.replace('^{}_'.format(meas_var), '').astype('int')\n",
    "data = data.sort_values(['ID', 'Time'])\n",
    "\n",
    "dt_class = data.loc[:, ['ID', 'class']].copy()\n",
    "dt_class = dt_class.drop_duplicates()\n",
    "dt_class.index = dt_class['ID']\n",
    "dt_class = dt_class.drop('ID', axis=1)\n",
    "\n",
    "y_target =  dt_class['class']\n",
    "\n",
    "del data  # Free memory"
   ]
  },
  {
   "cell_type": "markdown",
   "metadata": {},
   "source": [
    "### Load features"
   ]
  },
  {
   "cell_type": "code",
   "execution_count": 11,
   "metadata": {},
   "outputs": [],
   "source": [
    "# Load features and split for forest fitting\n",
    "def load_features_split(meas_vars, y_target):\n",
    "    if isinstance(meas_vars, str):\n",
    "        features_archive = zipfile.ZipFile('../data/randForest_Features/randForest_Features_{}_repl2_trim100.zip'.format(meas_vars), 'r')\n",
    "        features_filtered = pd.read_csv(features_archive.open('randForest_fltrFeatures.csv'),\n",
    "                                    index_col='id')\n",
    "    if isinstance(meas_vars, tuple):\n",
    "        features_filtered = []\n",
    "        for meas_var in meas_vars:\n",
    "            features_archive = zipfile.ZipFile('../data/randForest_Features/randForest_Features_{}_repl2_trim100.zip'.format(meas_var), 'r')\n",
    "            features_filtered.append(pd.read_csv(features_archive.open('randForest_fltrFeatures.csv'),\n",
    "                                        index_col='id'))\n",
    "        features_filtered = pd.merge(features_filtered[0], features_filtered[1], left_index=True, right_index=True)\n",
    "        \n",
    "    X_train, X_test, y_train, y_test = train_test_split(features_filtered, y_target, test_size=0.3, random_state=42)\n",
    "    return X_train, X_test, y_train, y_test\n",
    "\n",
    "\n",
    "features_dict = {meas:load_features_split(meas, y_target) for meas in ['ERK', 'AKT', ('ERK', 'AKT')]}"
   ]
  },
  {
   "cell_type": "markdown",
   "metadata": {},
   "source": [
    "### Fit model"
   ]
  },
  {
   "cell_type": "code",
   "execution_count": 12,
   "metadata": {},
   "outputs": [],
   "source": [
    "accuracies_trees   = {meas:confmat_acc_tree(*features_dict[meas]) for meas in ['ERK', 'AKT', ('ERK', 'AKT')]}\n",
    "accuracies_forests = {meas:confmat_acc_frst(*features_dict[meas]) for meas in ['ERK', 'AKT', ('ERK', 'AKT')]}"
   ]
  },
  {
   "cell_type": "markdown",
   "metadata": {},
   "source": [
    "### Report accuracies\n",
    "\n",
    "* ERK"
   ]
  },
  {
   "cell_type": "code",
   "execution_count": 13,
   "metadata": {},
   "outputs": [
    {
     "name": "stdout",
     "output_type": "stream",
     "text": [
      "Accuracy of the decision tree for ERK is: 0.3314656443526983\n",
      "Accuracy of the random forest for ERK is: 0.4370392214685933\n",
      "\n",
      " Confusion matrix: decision tree\n",
      "     BTC  CTR  EGF  EPR  HGF  HRG  IGF\n",
      "BTC  156   25  114   37   23   40   20\n",
      "CTR   24  135   25   19  114   83  130\n",
      "EGF  103   10  149   62   19   20   16\n",
      "EPR   54   15   70  183   11   19   13\n",
      "HGF   36  113   23   18  122  106  154\n",
      "HRG   27   93   31   14   97  208   84\n",
      "IGF   15  120   15   13  138  104  171\n",
      "\n",
      " Confusion matrix: random forest\n",
      "     BTC  CTR  EGF  EPR  HGF  HRG  IGF\n",
      "BTC  201   13   80   55   11   50    5\n",
      "CTR   14  167    2   16  102   87  142\n",
      "EGF  103   13  159   77    4   22    1\n",
      "EPR   34   14   32  271    5    7    2\n",
      "HGF   31  108    8   14   82  159  170\n",
      "HRG   29   53   11   11   61  331   58\n",
      "IGF   17   79    4   13   59  133  271\n"
     ]
    }
   ],
   "source": [
    "print_results('ERK')"
   ]
  },
  {
   "cell_type": "markdown",
   "metadata": {},
   "source": [
    "* AKT"
   ]
  },
  {
   "cell_type": "code",
   "execution_count": 14,
   "metadata": {},
   "outputs": [
    {
     "name": "stdout",
     "output_type": "stream",
     "text": [
      "Accuracy of the decision tree for AKT is: 0.40902388675906814\n",
      "Accuracy of the random forest for AKT is: 0.5252138012385726\n",
      "\n",
      " Confusion matrix: decision tree\n",
      "     BTC  CTR  EGF  EPR  HGF  HRG  IGF\n",
      "BTC  142   41  112   41   51   20    8\n",
      "CTR   33  184   31   36  150   48   48\n",
      "EGF  109   24  121   54   43   23    5\n",
      "EPR   66   31   64  111   60   24    9\n",
      "HGF   57  169   42   44  163   61   36\n",
      "HRG   23   54   19   38   52  280   88\n",
      "IGF    7   36   11   16   36   84  386\n",
      "\n",
      " Confusion matrix: random forest\n",
      "     BTC  CTR  EGF  EPR  HGF  HRG  IGF\n",
      "BTC  188   25   93   26   51   31    1\n",
      "CTR   21  241    8   27  171   25   37\n",
      "EGF  114   18  161   37   20   28    1\n",
      "EPR   68   30   60  114   37   46   10\n",
      "HGF   59  184   16   14  221   52   26\n",
      "HRG   10   24    4    8   36  376   96\n",
      "IGF    1   24    0    2    9   60  480\n"
     ]
    }
   ],
   "source": [
    "print_results('AKT')"
   ]
  },
  {
   "cell_type": "markdown",
   "metadata": {},
   "source": [
    "* ERK-AKT"
   ]
  },
  {
   "cell_type": "code",
   "execution_count": 16,
   "metadata": {},
   "outputs": [
    {
     "name": "stdout",
     "output_type": "stream",
     "text": [
      "Accuracy of the decision tree for ('ERK', 'AKT') is: 0.4747861987614273\n",
      "Accuracy of the random forest for ('ERK', 'AKT') is: 0.6054261279858448\n",
      "\n",
      " Confusion matrix: decision tree\n",
      "     BTC  CTR  EGF  EPR  HGF  HRG  IGF\n",
      "BTC  168   19  116   45   41   20    6\n",
      "CTR   26  174   17   20  190   56   47\n",
      "EGF  113   22  138   64   24   13    5\n",
      "EPR   63   19   58  180   19   16   10\n",
      "HGF   34  168   26   16  229   62   37\n",
      "HRG   17   41    9   17   75  315   80\n",
      "IGF   11   36    5    7   41   70  406\n",
      "\n",
      " Confusion matrix: random forest\n",
      "     BTC  CTR  EGF  EPR  HGF  HRG  IGF\n",
      "BTC  246   11   70   54   28    5    1\n",
      "CTR   20  237    1   16  197   30   29\n",
      "EGF  107   10  176   70   15    1    0\n",
      "EPR   44   10   31  266    8    4    2\n",
      "HGF   35  180    5    9  248   70   25\n",
      "HRG    5   29    3   10   35  390   82\n",
      "IGF    1   18    0    1   16   50  490\n"
     ]
    }
   ],
   "source": [
    "print_results(('ERK', 'AKT'))"
   ]
  }
 ],
 "metadata": {
  "kernelspec": {
   "display_name": "Python 3",
   "language": "python",
   "name": "python3"
  },
  "language_info": {
   "codemirror_mode": {
    "name": "ipython",
    "version": 3
   },
   "file_extension": ".py",
   "mimetype": "text/x-python",
   "name": "python",
   "nbconvert_exporter": "python",
   "pygments_lexer": "ipython3",
   "version": "3.7.3"
  },
  "pycharm": {
   "stem_cell": {
    "cell_type": "raw",
    "metadata": {
     "collapsed": false
    },
    "source": []
   }
  }
 },
 "nbformat": 4,
 "nbformat_minor": 1
}
