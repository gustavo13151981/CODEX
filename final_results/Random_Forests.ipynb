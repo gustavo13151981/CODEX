{
 "cells": [
  {
   "cell_type": "markdown",
   "metadata": {
    "collapsed": true,
    "pycharm": {
     "name": "#%% md\n"
    }
   },
   "source": [
    "\n",
    "### Classification baseline for CNNs with RandomForests - Summary\n",
    "Results of baseline random forest classifiers with automatic features extraction from tsfresh.\n",
    "\n",
    "This notebook is just a summary of the results, for feature extraction and random forest optimization check: randomForest_baseline.py.\n"
   ]
  },
  {
   "cell_type": "code",
   "execution_count": 5,
   "metadata": {
    "pycharm": {
     "is_executing": false,
     "name": "#%% \n"
    }
   },
   "outputs": [],
   "source": [
    "import pandas as pd\n",
    "from tsfresh import extract_features, select_features\n",
    "from tsfresh.utilities.dataframe_functions import impute\n",
    "from sklearn.model_selection import train_test_split\n",
    "from sklearn.ensemble import RandomForestClassifier\n",
    "from sklearn.tree import DecisionTreeClassifier\n",
    "import sklearn.metrics as metrics\n",
    "import treeinterpreter.treeinterpreter as ti\n",
    "from sklearn.model_selection import GridSearchCV\n",
    "import zipfile\n",
    "# Read module from another directory\n",
    "import sys\n",
    "sys.path.append('../')\n",
    "from load_data import DataProcesser\n"
   ]
  },
  {
   "cell_type": "code",
   "execution_count": 32,
   "metadata": {
    "pycharm": {
     "is_executing": false,
     "name": "#%%\n"
    }
   },
   "outputs": [],
   "source": [
    "# Get target vector for sklearn\n",
    "data_file = '../data/ErkAkt_6GF_len240.zip'\n",
    "meas_var = 'AKT'  # doesn't matter which variable is chosen\n",
    "data = DataProcesser(data_file)\n",
    "data.subset(sel_groups=meas_var, start_time=0, end_time=600)\n",
    "classes = tuple(data.classes.iloc[:,1])\n",
    "data = data.dataset\n",
    "\n",
    "data = pd.melt(data, id_vars=['ID', 'class'], var_name='Time', value_name='Ratio_' + meas_var)\n",
    "data['Time'] = data['Time'].str.replace('^{}_'.format(meas_var), '').astype('int')\n",
    "data = data.sort_values(['ID', 'Time'])\n",
    "\n",
    "dt_class = data.loc[:, ['ID', 'class']].copy()\n",
    "dt_class = dt_class.drop_duplicates()\n",
    "dt_class.index = dt_class['ID']\n",
    "dt_class = dt_class.drop('ID', axis=1)\n",
    "\n",
    "y_target =  dt_class['class']\n",
    "\n",
    "del data  # Free memory\n"
   ]
  },
  {
   "cell_type": "markdown",
   "metadata": {
    "pycharm": {
     "name": "#%% md\n"
    }
   },
   "source": [
    "### Load features\n",
    "\n",
    "For the bivariate case, the features are extracted indepently on ERK and AKT channels and concatenated.\n"
   ]
  },
  {
   "cell_type": "code",
   "execution_count": 12,
   "metadata": {
    "pycharm": {
     "is_executing": false,
     "name": "#%%\n"
    }
   },
   "outputs": [],
   "source": [
    "# Load features and split for forest fitting\n",
    "def load_features_split(meas_vars, y_target):\n",
    "    if isinstance(meas_vars, str):\n",
    "        features_archive = zipfile.ZipFile('../data/randForest_Features/randForest_Features_{}.zip'.format(meas_vars), 'r')\n",
    "        features_filtered = pd.read_csv(features_archive.open('randForest_fltrFeatures.csv'),\n",
    "                                    index_col='id')\n",
    "    if isinstance(meas_vars, tuple):\n",
    "        features_filtered = []\n",
    "        for meas_var in meas_vars:\n",
    "            features_archive = zipfile.ZipFile('../data/randForest_Features/randForest_Features_{}.zip'.format(meas_var), 'r')\n",
    "            features_filtered.append(pd.read_csv(features_archive.open('randForest_fltrFeatures.csv'),\n",
    "                                        index_col='id'))\n",
    "        features_filtered = pd.merge(features_filtered[0], features_filtered[1], left_index=True, right_index=True)\n",
    "        \n",
    "    X_train, X_test, y_train, y_test = train_test_split(features_filtered, y_target, test_size=0.3, random_state=42)\n",
    "    return X_train, X_test, y_train, y_test\n",
    "\n",
    "\n",
    "features_dict = {meas:load_features_split(meas, y_target) for meas in ['ERK', 'AKT', ('ERK', 'AKT')]}\n"
   ]
  },
  {
   "cell_type": "markdown",
   "metadata": {
    "pycharm": {
     "name": "#%% md\n"
    }
   },
   "source": [
    "### Fit Models\n",
    "\n",
    "Use decision tree and base random forest from sklearn with only 10 trees.\n"
   ]
  },
  {
   "cell_type": "code",
   "execution_count": 34,
   "metadata": {
    "pycharm": {
     "is_executing": false,
     "name": "#%%\n"
    }
   },
   "outputs": [],
   "source": [
    "def confmat_acc_tree(xtrain, xtest, ytrain, ytest):\n",
    "    model = DecisionTreeClassifier()\n",
    "    model.fit(xtrain, ytrain)\n",
    "    y_predict = model.predict(xtest)\n",
    "    # Truth on rows; Predicted on columns\n",
    "    confmat = metrics.confusion_matrix(ytest.values, y_predict, labels=[0,1,2,3,4,5,6])\n",
    "    acc = metrics.accuracy_score(ytest.values, y_predict)\n",
    "    return acc, confmat\n",
    "\n",
    "def confmat_acc_frst(xtrain, xtest, ytrain, ytest):\n",
    "    model = RandomForestClassifier(n_estimators=10)\n",
    "    model.fit(xtrain, ytrain)\n",
    "    y_predict = model.predict(xtest)\n",
    "    # Truth on rows; Predicted on columns\n",
    "    confmat = metrics.confusion_matrix(ytest.values, y_predict, labels=[0,1,2,3,4,5,6])\n",
    "    acc = metrics.accuracy_score(ytest.values, y_predict)\n",
    "    return acc, confmat\n",
    "\n",
    "accuracies_trees   = {meas:confmat_acc_tree(*features_dict[meas]) for meas in ['ERK', 'AKT', ('ERK', 'AKT')]}\n",
    "accuracies_forests = {meas:confmat_acc_frst(*features_dict[meas]) for meas in ['ERK', 'AKT', ('ERK', 'AKT')]}\n"
   ]
  },
  {
   "cell_type": "markdown",
   "metadata": {
    "pycharm": {
     "name": "#%% md\n"
    }
   },
   "source": [
    "### Report accuracies\n"
   ]
  },
  {
   "cell_type": "code",
   "execution_count": 51,
   "metadata": {
    "pycharm": {
     "is_executing": false,
     "name": "#%% \n"
    }
   },
   "outputs": [],
   "source": [
    "def print_results(meas_var):\n",
    "    def format_confmat(mat, class_names):\n",
    "        out = pd.DataFrame(mat)\n",
    "        out.index = class_names\n",
    "        out.columns = class_names\n",
    "        return  out\n",
    "    print('Accuracy of the decision tree for {} is: {}'.format(meas_var, accuracies_trees[meas_var][0]))\n",
    "    print('Accuracy of the random forest for {} is: {}'.format(meas_var, accuracies_forests[meas_var][0]))\n",
    "    \n",
    "    print('\\n Confusion matrix: decision tree')\n",
    "    print(format_confmat(accuracies_trees[meas_var][1], classes))\n",
    "    \n",
    "    print('\\n Confusion matrix: random forest')\n",
    "    print(format_confmat(accuracies_forests[meas_var][1], classes))\n"
   ]
  },
  {
   "cell_type": "markdown",
   "metadata": {
    "pycharm": {
     "name": "#%% md\n"
    }
   },
   "source": [
    "* ERK"
   ]
  },
  {
   "cell_type": "code",
   "execution_count": 52,
   "metadata": {
    "pycharm": {
     "is_executing": false,
     "name": "#%%\n"
    }
   },
   "outputs": [
    {
     "name": "stdout",
     "output_type": "stream",
     "text": [
      "Accuracy of the decision tree for ERK is: 0.38253241800152554\n",
      "Accuracy of the random forest for ERK is: 0.4622425629290618\n",
      "\n",
      " Confusion matrix: decision tree\n",
      "              Ctrl  EGF  HGF  IGF1  Epiregulin  HeregulinB1  Betacellulin\n",
      "Ctrl            98    3   93   126          11           56            16\n",
      "EGF              7  128   12     3          65           29            92\n",
      "HGF             76   14  127   100           7           48            16\n",
      "IGF1            85    8   95   177           7           61            11\n",
      "Epiregulin      12   50   12     7         158           15            40\n",
      "HeregulinB1     47   22   56    68          13          167            28\n",
      "Betacellulin    13   90   17    11          39           38           148\n",
      "\n",
      " Confusion matrix: random forest\n",
      "              Ctrl  EGF  HGF  IGF1  Epiregulin  HeregulinB1  Betacellulin\n",
      "Ctrl           125    8   49   141           6           63            11\n",
      "EGF              9  163   10     5          58            7            84\n",
      "HGF             95   10  140    87           9           41             6\n",
      "IGF1           100    5   64   230           6           36             3\n",
      "Epiregulin       7   67    7     4         181            4            24\n",
      "HeregulinB1     48   17   44    38          13          215            26\n",
      "Betacellulin    12  108    8     4          38           28           158\n"
     ]
    }
   ],
   "source": [
    "print_results('ERK')\n"
   ]
  },
  {
   "cell_type": "markdown",
   "metadata": {},
   "source": [
    "* AKT"
   ]
  },
  {
   "cell_type": "code",
   "execution_count": 53,
   "metadata": {
    "pycharm": {
     "is_executing": false,
     "name": "#%%\n"
    }
   },
   "outputs": [
    {
     "name": "stdout",
     "output_type": "stream",
     "text": [
      "Accuracy of the decision tree for AKT is: 0.4401220442410374\n",
      "Accuracy of the random forest for AKT is: 0.513348588863463\n",
      "\n",
      " Confusion matrix: decision tree\n",
      "              Ctrl  EGF  HGF  IGF1  Epiregulin  HeregulinB1  Betacellulin\n",
      "Ctrl           146   12  133    29          26           35            22\n",
      "EGF             14  114   37     7          59           14            91\n",
      "HGF             88   30  156    26          26           33            29\n",
      "IGF1            25    9   32   303          14           59             2\n",
      "Epiregulin      19   65   37     6          82           21            64\n",
      "HeregulinB1     22   16   29    54          15          240            25\n",
      "Betacellulin    24  107   29     6          59           18           113\n",
      "\n",
      " Confusion matrix: random forest\n",
      "              Ctrl  EGF  HGF  IGF1  Epiregulin  HeregulinB1  Betacellulin\n",
      "Ctrl           227   10   95    28          16           16            11\n",
      "EGF             16  136   22     8          53           12            89\n",
      "HGF            134   16  165    21          15           25            12\n",
      "IGF1            32    5   12   360           3           31             1\n",
      "Epiregulin      32   84   24     3          91           13            47\n",
      "HeregulinB1     20   13   24    59          12          266             7\n",
      "Betacellulin    26  122   32     4          49           22           101\n"
     ]
    }
   ],
   "source": [
    "print_results('AKT')\n"
   ]
  },
  {
   "cell_type": "markdown",
   "metadata": {},
   "source": [
    "* ERK-AKT"
   ]
  },
  {
   "cell_type": "code",
   "execution_count": 54,
   "metadata": {
    "pycharm": {
     "is_executing": false,
     "name": "#%%\n"
    }
   },
   "outputs": [
    {
     "name": "stdout",
     "output_type": "stream",
     "text": [
      "Accuracy of the decision tree for ('ERK', 'AKT') is: 0.5312738367658276\n",
      "Accuracy of the random forest for ('ERK', 'AKT') is: 0.5995423340961098\n",
      "\n",
      " Confusion matrix: decision tree\n",
      "              Ctrl  EGF  HGF  IGF1  Epiregulin  HeregulinB1  Betacellulin\n",
      "Ctrl           178    7  118    29          18           35            18\n",
      "EGF             14  145   13     3          51            6           104\n",
      "HGF            104   18  169    35          13           30            19\n",
      "IGF1            29    3   28   329           5           48             2\n",
      "Epiregulin      11   64   14     4         159            1            41\n",
      "HeregulinB1     31   10   35    54           6          251            14\n",
      "Betacellulin    19   87   24     6          46           12           162\n",
      "\n",
      " Confusion matrix: random forest\n",
      "              Ctrl  EGF  HGF  IGF1  Epiregulin  HeregulinB1  Betacellulin\n",
      "Ctrl           258    7   72    29           6           18            13\n",
      "EGF             11  160   13     1          61            4            86\n",
      "HGF            141   11  167    26          11           21            11\n",
      "IGF1            27    0   17   371           2           26             1\n",
      "Epiregulin      10   62   13     2         167            4            36\n",
      "HeregulinB1     26    5   22    59           4          279             6\n",
      "Betacellulin    23  101   13     0          40            9           170\n"
     ]
    }
   ],
   "source": [
    "print_results(('ERK', 'AKT'))\n"
   ]
  }
 ],
 "metadata": {
  "kernelspec": {
   "display_name": "Python 3",
   "language": "python",
   "name": "python3"
  },
  "language_info": {
   "codemirror_mode": {
    "name": "ipython",
    "version": 3
   },
   "file_extension": ".py",
   "mimetype": "text/x-python",
   "name": "python",
   "nbconvert_exporter": "python",
   "pygments_lexer": "ipython3",
   "version": "3.7.3"
  },
  "pycharm": {
   "stem_cell": {
    "cell_type": "raw",
    "metadata": {
     "collapsed": false
    },
    "source": []
   }
  }
 },
 "nbformat": 4,
 "nbformat_minor": 1
}
