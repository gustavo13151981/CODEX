{
 "cells": [
  {
   "cell_type": "markdown",
   "metadata": {},
   "source": [
    "# Motifs clustering\n",
    "\n",
    "Companion notebook of 2_Motifs_analysis. After exporting motifs to csv.zip files, proceed here for clustering and visualization.\n",
    "\n",
    "## Import libraries"
   ]
  },
  {
   "cell_type": "code",
   "execution_count": 1,
   "metadata": {},
   "outputs": [],
   "source": [
    "import torch\n",
    "from torch.utils.data import DataLoader\n",
    "from torchvision import transforms\n",
    "import numpy as np\n",
    "import pandas as pd\n",
    "from load_data import DataProcesser\n",
    "from results_model import top_confidence_perclass, least_correlated_set\n",
    "from pattern_utils import extend_segments, create_cam, longest_segments, extract_pattern\n",
    "from class_dataset import myDataset, ToTensor, RandomCrop\n",
    "from dtaidistance import dtw, clustering\n",
    "from models import ConvNetCam\n",
    "from skimage.filters import threshold_li, threshold_mean\n",
    "import os\n",
    "from itertools import chain\n",
    "from tqdm import tqdm\n",
    "import subprocess"
   ]
  },
  {
   "cell_type": "code",
   "execution_count": 2,
   "metadata": {},
   "outputs": [],
   "source": [
    "# data_file = '/home/marc/Dropbox/Work/TSclass_GF/data/ErkAkt_6GF_len240_repl2_trim100.zip'\n",
    "# data_file = '/home/marc/Dropbox/CNN_paper_MarcAntoine/forPaper/data_analysis/synthetic_len750_univariate_classAB.zip'\n",
    "data_file = '/home/marc/Dropbox/CNN_paper_MarcAntoine/forPaper/data_analysis/synthetic_len750.zip'\n",
    "meas_var = None  # Set to None for auto detection\n",
    "\n",
    "data = DataProcesser(data_file)\n",
    "classes = tuple(data.classes.iloc[:, 1])\n",
    "meas_var = data.detect_groups_times()['groups'] if meas_var is None else meas_var\n",
    "\n",
    "min_len_patt = 5\n",
    "max_len_patt = 400  # length to divide by nchannel\n",
    "\n",
    "center_patt = False\n",
    "normalize_dtw = True\n",
    "\n",
    "export_perClass = True\n",
    "export_allPooled = True\n",
    "\n",
    "save_csv = True\n",
    "save_rds = True"
   ]
  },
  {
   "cell_type": "markdown",
   "metadata": {},
   "source": [
    "## Build distance matrix with DTW\n",
    "\n",
    "This is done in R with the implementation of the *parallelDist* package. It is very efficient and has support for multivariate cases.\n",
    "\n",
    "The distance matrices can be written both as a compressed csv (squared matrix, lower triangle and diagonal set to Inf) or as an rds R object which contains an R distance object. The latter is very useful to resume clustering directly in R, just load the distance object with readRDS()."
   ]
  },
  {
   "cell_type": "code",
   "execution_count": 3,
   "metadata": {},
   "outputs": [
    {
     "name": "stdout",
     "output_type": "stream",
     "text": [
      "Building distance matrix for class: A \n",
      "\n",
      "Building distance matrix for class: B \n",
      "\n",
      "Building distance matrix for class: C \n",
      "\n",
      "Building distance matrix for class: D \n",
      "\n",
      "Building distance matrix for pooled data.\n"
     ]
    }
   ],
   "source": [
    "center_patt = \"T\" if center_patt else \"F\"\n",
    "normalize_dtw = \"T\" if normalize_dtw else \"F\"\n",
    "save_csv = \"T\" if save_csv else \"F\"\n",
    "save_rds = \"T\" if save_rds else \"F\"\n",
    "\n",
    "if export_perClass:\n",
    "    for classe in classes:\n",
    "        print('Building distance matrix for class: {} \\n'.format(classe))\n",
    "        fout_patt = '/home/marc/Dropbox/Work/TSclass_GF/Notebooks/output/' + '_'.join(meas_var) + '/local_patterns/patt_uncorr_{}.csv.gz'.format(classe)\n",
    "        fout_dist = '/home/marc/Dropbox/Work/TSclass_GF/Notebooks/output/' + '_'.join(meas_var) + '/local_patterns/uncorr_dist_norm_{}'.format(classe)\n",
    "        if len(meas_var) == 1:\n",
    "            subprocess.call(\n",
    "                'Rscript --vanilla /home/marc/Dropbox/Work/TSclass_GF/dtw_multivar_distmat.R -i \"{}\" -o \"{}\" -l {} -n {} --norm {} --center {} --colid {} --csv {} --rds {}'.format(\n",
    "                    fout_patt,\n",
    "                    fout_dist,\n",
    "                    max_len_patt,\n",
    "                    len(meas_var),\n",
    "                    normalize_dtw,\n",
    "                    center_patt,\n",
    "                    \"NULL\",\n",
    "                    save_csv,\n",
    "                    save_rds), shell=True)\n",
    "        elif len(meas_var) >= 2:\n",
    "            subprocess.call(\n",
    "                'Rscript --vanilla /home/marc/Dropbox/Work/TSclass_GF/dtw_multivar_distmat.R -i \"{}\" -o \"{}\" -l {} -n {} --norm {} --center {} --colid {} --csv {} --rds {}'.format(\n",
    "                    fout_patt,\n",
    "                    fout_dist,\n",
    "                    max_len_patt,\n",
    "                    len(meas_var),\n",
    "                    normalize_dtw,\n",
    "                    center_patt,\n",
    "                    \"NULL\",\n",
    "                    save_csv,\n",
    "                    save_rds), shell=True)\n",
    "            \n",
    "if export_allPooled:\n",
    "    print('Building distance matrix for pooled data.')\n",
    "    fout_patt = '/home/marc/Dropbox/Work/TSclass_GF/Notebooks/output/' + '_'.join(meas_var) + '/local_patterns/patt_uncorr_allPooled.csv.gz'\n",
    "    fout_dist = '/home/marc/Dropbox/Work/TSclass_GF/Notebooks/output/' + '_'.join(meas_var) + '/local_patterns/uncorr_dist_norm_allPooled'\n",
    "    if len(meas_var) == 1:\n",
    "        subprocess.call('Rscript --vanilla /home/marc/Dropbox/Work/TSclass_GF/dtw_multivar_distmat.R -i \"{}\" -o \"{}\" -l {} -n {} --norm {} --center {} --colid {} --csv {} --rds {}'.format(\n",
    "            fout_patt,\n",
    "            fout_dist,\n",
    "            max_len_patt,\n",
    "            1,\n",
    "            normalize_dtw,\n",
    "            center_patt,\n",
    "            \"pattID\",\n",
    "            save_csv,\n",
    "            save_rds), shell=True)\n",
    "    elif len(meas_var) >= 2:\n",
    "        subprocess.call('Rscript --vanilla /home/marc/Dropbox/Work/TSclass_GF/dtw_multivar_distmat.R -i \"{}\" -o \"{}\" -l {} -n {} --norm {} --center {} --colid {} --csv {} --rds {}'.format(\n",
    "            fout_patt,\n",
    "            fout_dist,\n",
    "            max_len_patt,\n",
    "            len(\n",
    "                meas_var),\n",
    "            normalize_dtw,\n",
    "            center_patt,\n",
    "            \"pattID\",\n",
    "            save_csv,\n",
    "            save_rds), shell=True)"
   ]
  },
  {
   "cell_type": "markdown",
   "metadata": {},
   "source": [
    "## Cluster, generate report with results\n",
    "\n",
    "This will use the distance matrix generated in the previous section to perform hierarchical clustering. Medoids from each cluster are reported along with a random sample of each cluster.\n",
    "\n",
    "- nclust: int, number of clusters.\n",
    "- nmedoid: int, number of medoids to plot per cluster.\n",
    "- nseries: int, number of series to plot from each cluster (choosen randomly).\n",
    "- linkage: str, one of [\"ward.D\", \"ward.D2\", \"single\", \"complete\", \"average\", \"mcquitty\", \"median\", \"centroid\"]. Linkage for hierarchical clustering. Ward and average seem to be advisable defaults. More details on the help page for hierarchical clustering with R: https://stat.ethz.ch/R-manual/R-devel/library/stats/html/hclust.html"
   ]
  },
  {
   "cell_type": "code",
   "execution_count": 4,
   "metadata": {
    "scrolled": true
   },
   "outputs": [
    {
     "name": "stdout",
     "output_type": "stream",
     "text": [
      "Cluster patterns for class: A \n",
      "\n",
      "Cluster patterns for class: B \n",
      "\n",
      "Cluster patterns for class: C \n",
      "\n",
      "Cluster patterns for class: D \n",
      "\n",
      "Cluster patterns for pooled data.\n",
      "Clustering done.\n"
     ]
    }
   ],
   "source": [
    "nclust = 4\n",
    "nmedoid = 3\n",
    "nseries = 16\n",
    "linkage = \"ward.D2\"\n",
    "\n",
    "assert linkage in [\"ward.D\", \"ward.D2\", \"single\", \"complete\", \"average\", \"mcquitty\", \"median\", \"centroid\"]\n",
    "\n",
    "if export_perClass:\n",
    "    for classe in classes:\n",
    "        print('Cluster patterns for class: {} \\n'.format(classe))\n",
    "        fout_patt = '/home/marc/Dropbox/Work/TSclass_GF/Notebooks/output/' + '_'.join(meas_var) + '/local_patterns/patt_uncorr_{}.csv.gz'.format(classe)\n",
    "        fout_dist = '/home/marc/Dropbox/Work/TSclass_GF/Notebooks/output/' + '_'.join(meas_var) + '/local_patterns/uncorr_dist_norm_{}.csv.gz'.format(classe)\n",
    "        fout_plot = '/home/marc/Dropbox/Work/TSclass_GF/Notebooks/output/' + '_'.join(meas_var) + '/local_patterns/uncorr_pattPlot_{}.pdf'.format(classe)\n",
    "        subprocess.call('Rscript --vanilla /home/marc/Dropbox/Work/TSclass_GF/pattern_clustering.R -d {} -p {} -o {} -l {} -n {} -c {} -m {} -t {} --colid {} --linkage {}'.format(fout_dist,\n",
    "                                                                                                       fout_patt,\n",
    "                                                                                                       fout_plot,\n",
    "                                                                                                       max_len_patt,\n",
    "                                                                                                       len(meas_var),\n",
    "                                                                                                       nclust,\n",
    "                                                                                                       nmedoid,\n",
    "                                                                                                       nseries,\n",
    "                                                                                                       \"NULL\",\n",
    "                                                                                                       linkage), shell=True)\n",
    "\n",
    "if export_allPooled:\n",
    "    print('Cluster patterns for pooled data.')\n",
    "    fout_patt = '/home/marc/Dropbox/Work/TSclass_GF/Notebooks/output/' + '_'.join(meas_var) + '/local_patterns/patt_uncorr_allPooled.csv.gz'\n",
    "    fout_dist = '/home/marc/Dropbox/Work/TSclass_GF/Notebooks/output/' + '_'.join(meas_var) + '/local_patterns/uncorr_dist_norm_allPooled.csv.gz'\n",
    "    fout_plot = '/home/marc/Dropbox/Work/TSclass_GF/Notebooks/output/' + '_'.join(meas_var) + '/local_patterns/uncorr_pattPlot_allPooled.pdf'\n",
    "    subprocess.call('Rscript --vanilla /home/marc/Dropbox/Work/TSclass_GF/pattern_clustering.R -d {} -p {} -o {} -l {} -n {} -c {} -m {} -t {} --colid {} --linkage {}'.format(fout_dist,\n",
    "                                                                                               fout_patt,\n",
    "                                                                                               fout_plot,\n",
    "                                                                                               max_len_patt,\n",
    "                                                                                               len(meas_var),\n",
    "                                                                                               nclust,\n",
    "                                                                                               nmedoid,\n",
    "                                                                                               nseries,\n",
    "                                                                                               \"pattID\",\n",
    "                                                                                               linkage), shell=True)\n",
    "print('Clustering done.')"
   ]
  },
  {
   "cell_type": "code",
   "execution_count": null,
   "metadata": {},
   "outputs": [],
   "source": []
  }
 ],
 "metadata": {
  "kernelspec": {
   "display_name": "Python 3",
   "language": "python",
   "name": "python3"
  },
  "language_info": {
   "codemirror_mode": {
    "name": "ipython",
    "version": 3
   },
   "file_extension": ".py",
   "mimetype": "text/x-python",
   "name": "python",
   "nbconvert_exporter": "python",
   "pygments_lexer": "ipython3",
   "version": "3.7.3"
  }
 },
 "nbformat": 4,
 "nbformat_minor": 2
}
