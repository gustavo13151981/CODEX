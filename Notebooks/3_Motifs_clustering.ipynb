{
 "cells": [
  {
   "cell_type": "markdown",
   "metadata": {},
   "source": [
    "# Motifs clustering\n",
    "\n",
    "Companion notebook of 2_Motifs_analysis. After exporting motifs to csv.zip files, proceed here for clustering and visualization.\n",
    "\n",
    "## Import libraries"
   ]
  },
  {
   "cell_type": "code",
   "execution_count": 1,
   "metadata": {},
   "outputs": [],
   "source": [
    "import torch\n",
    "from torch.utils.data import DataLoader\n",
    "from torchvision import transforms\n",
    "import numpy as np\n",
    "import pandas as pd\n",
    "from load_data import DataProcesser\n",
    "from results_model import top_confidence_perclass, least_correlated_set\n",
    "from pattern_utils import extend_segments, create_cam, longest_segments, extract_pattern\n",
    "from class_dataset import myDataset, ToTensor, RandomCrop\n",
    "from dtaidistance import dtw, clustering\n",
    "from models import ConvNetCam\n",
    "from skimage.filters import threshold_li, threshold_mean\n",
    "import os\n",
    "from itertools import chain\n",
    "from tqdm import tqdm\n",
    "import subprocess"
   ]
  },
  {
   "cell_type": "code",
   "execution_count": 2,
   "metadata": {},
   "outputs": [],
   "source": [
    "data_file = '/home/marc/Dropbox/Work/TSclass_GF/data/ErkAkt_6GF_len240_repl2_trim100.zip'\n",
    "data = DataProcesser(data_file)\n",
    "classes = tuple(data.classes.iloc[:, 1])\n",
    "meas_var = ['ERK', 'AKT']\n",
    "\n",
    "min_len_patt = 40\n",
    "max_len_patt = 400  # length to divide by nchannel\n",
    "\n",
    "center_patt = False\n",
    "normalize_dtw = True\n",
    "\n",
    "export_perClass = True\n",
    "export_allPooled = True"
   ]
  },
  {
   "cell_type": "markdown",
   "metadata": {},
   "source": [
    "## Build distance matrix with DTW\n",
    "\n",
    "This is done in R with the implementation of the *parallelDist* package. It is very efficient and has support for multivariate cases."
   ]
  },
  {
   "cell_type": "code",
   "execution_count": 3,
   "metadata": {},
   "outputs": [
    {
     "name": "stdout",
     "output_type": "stream",
     "text": [
      "Building distance matrix for class: BTC \n",
      "\n",
      "Building distance matrix for class: CTR \n",
      "\n",
      "Building distance matrix for class: EGF \n",
      "\n",
      "Building distance matrix for class: EPR \n",
      "\n",
      "Building distance matrix for class: HGF \n",
      "\n",
      "Building distance matrix for class: HRG \n",
      "\n",
      "Building distance matrix for class: IGF \n",
      "\n",
      "Building distance matrix for pooled data.\n"
     ]
    }
   ],
   "source": [
    "if export_perClass:\n",
    "    for classe in classes:\n",
    "        print('Building distance matrix for class: {} \\n'.format(classe))\n",
    "        fout_patt = '/home/marc/Dropbox/Work/TSclass_GF/Notebooks/output/' + '_'.join(meas_var) + '/local_patterns/patt_uncorr_{}.csv.gz'.format(classe)\n",
    "        fout_dist = '/home/marc/Dropbox/Work/TSclass_GF/Notebooks/output/' + '_'.join(meas_var) + '/local_patterns/uncorr_dist_norm_{}.csv.gz'.format(classe)\n",
    "        if len(meas_var) == 1:\n",
    "            subprocess.call(\n",
    "                'Rscript --vanilla /home/marc/Dropbox/Work/TSclass_GF/dtw_multivar_distmat.R -i \"{}\" -o \"{}\" -l {} -n {} --norm {} --center {} --colid {}'.format(\n",
    "                    fout_patt,\n",
    "                    fout_dist,\n",
    "                    max_len_patt/len(meas_var),\n",
    "                    1,\n",
    "                    normalize_dtw,\n",
    "                    center_patt,\n",
    "                    \"NULL\"), shell=True)\n",
    "        elif len(meas_var) >= 2:\n",
    "            subprocess.call(\n",
    "                'Rscript --vanilla /home/marc/Dropbox/Work/TSclass_GF/dtw_multivar_distmat.R -i \"{}\" -o \"{}\" -l {} -n {} --norm {} --center {} --colid {}'.format(\n",
    "                    fout_patt,\n",
    "                    fout_dist,\n",
    "                    max_len_patt,\n",
    "                    len(meas_var),\n",
    "                    normalize_dtw,\n",
    "                    center_patt,\n",
    "                    \"NULL\"), shell=True)\n",
    "            \n",
    "if export_allPooled:\n",
    "    print('Building distance matrix for pooled data.')\n",
    "    fout_patt = '/home/marc/Dropbox/Work/TSclass_GF/Notebooks/output/' + '_'.join(meas_var) + '/local_patterns/patt_uncorr_allPooled.csv.gz'\n",
    "    fout_dist = '/home/marc/Dropbox/Work/TSclass_GF/Notebooks/output/' + '_'.join(meas_var) + '/local_patterns/uncorr_dist_norm_allPooled.csv.gz'\n",
    "    if len(meas_var) == 1:\n",
    "        subprocess.call('Rscript --vanilla /home/marc/Dropbox/Work/TSclass_GF/dtw_multivar_distmat.R -i \"{}\" -o \"{}\" -l {} -n {} --norm {} --center {} --colid {}'.format(\n",
    "            fout_patt,\n",
    "            fout_dist,\n",
    "            max_len_patt,\n",
    "            1,\n",
    "            normalize_dtw,\n",
    "            center_patt,\n",
    "            \"pattID\"), shell=True)\n",
    "    elif len(meas_var) >= 2:\n",
    "        subprocess.call('Rscript --vanilla /home/marc/Dropbox/Work/TSclass_GF/dtw_multivar_distmat.R -i \"{}\" -o \"{}\" -l {} -n {} --norm {} --center {}  --colid {}'.format(\n",
    "            fout_patt,\n",
    "            fout_dist,\n",
    "            max_len_patt,\n",
    "            len(\n",
    "                meas_var),\n",
    "            normalize_dtw,\n",
    "            center_patt,\n",
    "            \"pattID\"), shell=True)"
   ]
  },
  {
   "cell_type": "markdown",
   "metadata": {},
   "source": [
    "## Cluster, generate report with results\n",
    "\n",
    "This will use the distance matrix generated in the previous section to perform hierarchical clustering. Medoids from each cluster are reported along with a random sample of each cluster.\n",
    "\n",
    "- nclust: int, number of clusters.\n",
    "- nmedoid: int, number of medoids to plot per cluster.\n",
    "- nseries: int, number of series to plot from each cluster (choosen randomly)."
   ]
  },
  {
   "cell_type": "code",
   "execution_count": 4,
   "metadata": {},
   "outputs": [
    {
     "name": "stdout",
     "output_type": "stream",
     "text": [
      "Cluster patterns for class: BTC \n",
      "\n",
      "Cluster patterns for class: CTR \n",
      "\n",
      "Cluster patterns for class: EGF \n",
      "\n",
      "Cluster patterns for class: EPR \n",
      "\n",
      "Cluster patterns for class: HGF \n",
      "\n",
      "Cluster patterns for class: HRG \n",
      "\n",
      "Cluster patterns for class: IGF \n",
      "\n",
      "Clustering done.\n"
     ]
    }
   ],
   "source": [
    "nclust = 4\n",
    "nmedoid = 3\n",
    "nseries = 16\n",
    "\n",
    "if export_perClass:\n",
    "    for classe in classes:\n",
    "        print('Cluster patterns for class: {} \\n'.format(classe))\n",
    "        fout_patt = '/home/marc/Dropbox/Work/TSclass_GF/Notebooks/output/' + '_'.join(meas_var) + '/local_patterns/patt_uncorr_{}.csv.gz'.format(classe)\n",
    "        fout_dist = '/home/marc/Dropbox/Work/TSclass_GF/Notebooks/output/' + '_'.join(meas_var) + '/local_patterns/uncorr_dist_norm_{}.csv.gz.csv.gz'.format(classe)\n",
    "        fout_plot = '/home/marc/Dropbox/Work/TSclass_GF/Notebooks/output/' + '_'.join(meas_var) + '/local_patterns/uncorr_pattPlot_{}.pdf'.format(classe)\n",
    "        subprocess.call('Rscript --vanilla /home/marc/Dropbox/Work/TSclass_GF/pattern_clustering.R -d {} -p {} -o {} -l {} -n {} -c{} -m {} -t {}'.format(fout_dist,\n",
    "                                                                                                       fout_patt,\n",
    "                                                                                                       fout_plot,\n",
    "                                                                                                       max_len_patt,\n",
    "                                                                                                       len(meas_var),\n",
    "                                                                                                       nclust,\n",
    "                                                                                                       nmedoid,\n",
    "                                                                                                       nseries), shell=True)\n",
    "\n",
    "if export_allPooled:\n",
    "    fout_patt = '/home/marc/Dropbox/Work/TSclass_GF/Notebooks/output/' + '_'.join(meas_var) + '/local_patterns/patt_uncorr_allPooled.csv.gz'\n",
    "    fout_dist = '/home/marc/Dropbox/Work/TSclass_GF/Notebooks/output/' + '_'.join(meas_var) + '/local_patterns/uncorr_dist_norm_allPooled.csv.gz.csv.gz'\n",
    "    fout_plot = '/home/marc/Dropbox/Work/TSclass_GF/Notebooks/output/' + '_'.join(meas_var) + '/local_patterns/uncorr_pattPlot_allPooled.pdf'.format(classe)\n",
    "    subprocess.call('Rscript --vanilla /home/marc/Dropbox/Work/TSclass_GF/pattern_clustering.R -d {} -p {} -o {} -l {} -n {} -c{} -m {} -t {}'.format(fout_dist,\n",
    "                                                                                               fout_patt,\n",
    "                                                                                               fout_plot,\n",
    "                                                                                               max_len_patt,\n",
    "                                                                                               len(meas_var),\n",
    "                                                                                               nclust,\n",
    "                                                                                               nmedoid,\n",
    "                                                                                               nseries), shell=True)\n",
    "print('Clustering done.')"
   ]
  }
 ],
 "metadata": {
  "kernelspec": {
   "display_name": "Python 3",
   "language": "python",
   "name": "python3"
  },
  "language_info": {
   "codemirror_mode": {
    "name": "ipython",
    "version": 3
   },
   "file_extension": ".py",
   "mimetype": "text/x-python",
   "name": "python",
   "nbconvert_exporter": "python",
   "pygments_lexer": "ipython3",
   "version": "3.7.3"
  }
 },
 "nbformat": 4,
 "nbformat_minor": 2
}
